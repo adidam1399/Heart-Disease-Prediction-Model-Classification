{
  "nbformat": 4,
  "nbformat_minor": 0,
  "metadata": {
    "colab": {
      "name": "Heart Disease Prediction Project.ipynb",
      "provenance": [],
      "collapsed_sections": []
    },
    "kernelspec": {
      "name": "python3",
      "display_name": "Python 3"
    },
    "language_info": {
      "name": "python"
    }
  },
  "cells": [
    {
      "cell_type": "markdown",
      "source": [
        "Importing the required libraries"
      ],
      "metadata": {
        "id": "3u6BF_-BM039"
      }
    },
    {
      "cell_type": "code",
      "execution_count": null,
      "metadata": {
        "id": "52I_AAtRJ4na"
      },
      "outputs": [],
      "source": [
        "import pandas as pd\n",
        "import numpy as np\n",
        "import matplotlib.pyplot as plt\n",
        "import seaborn as sns"
      ]
    },
    {
      "cell_type": "markdown",
      "source": [
        "Reading the data"
      ],
      "metadata": {
        "id": "E71BsDRuM8qZ"
      }
    },
    {
      "cell_type": "code",
      "source": [
        "from google.colab import files\n",
        "uploaded = files.upload()\n",
        "import io\n",
        "heart_data= pd.read_csv(io.BytesIO(uploaded['heart.csv']))\n"
      ],
      "metadata": {
        "id": "wetuNzFeLU5Q",
        "colab": {
          "resources": {
            "http://localhost:8080/nbextensions/google.colab/files.js": {
              "data": "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",
              "ok": true,
              "headers": [
                [
                  "content-type",
                  "application/javascript"
                ]
              ],
              "status": 200,
              "status_text": ""
            }
          },
          "base_uri": "https://localhost:8080/",
          "height": 73
        },
        "outputId": "0cd7e717-8b32-4bd8-ade3-4ad23a3d11dc"
      },
      "execution_count": null,
      "outputs": [
        {
          "output_type": "display_data",
          "data": {
            "text/plain": [
              "<IPython.core.display.HTML object>"
            ],
            "text/html": [
              "\n",
              "     <input type=\"file\" id=\"files-be53752e-cf14-4c34-9dbb-50409a878faf\" name=\"files[]\" multiple disabled\n",
              "        style=\"border:none\" />\n",
              "     <output id=\"result-be53752e-cf14-4c34-9dbb-50409a878faf\">\n",
              "      Upload widget is only available when the cell has been executed in the\n",
              "      current browser session. Please rerun this cell to enable.\n",
              "      </output>\n",
              "      <script src=\"/nbextensions/google.colab/files.js\"></script> "
            ]
          },
          "metadata": {}
        },
        {
          "output_type": "stream",
          "name": "stdout",
          "text": [
            "Saving heart.csv to heart (1).csv\n"
          ]
        }
      ]
    },
    {
      "cell_type": "markdown",
      "source": [
        "Splitting training and testing sets"
      ],
      "metadata": {
        "id": "Qi_gyMx5NjNI"
      }
    },
    {
      "cell_type": "code",
      "source": [
        "from sklearn.model_selection import train_test_split\n",
        "def train_test_splitting(data, test_size):\n",
        "  train, test=train_test_split(data, test_size=test_size, random_state=12)\n",
        "  label_train=train['target']\n",
        "  label_test=test['target']\n",
        "  train=train.drop('target',axis=1)\n",
        "  test=test.drop('target',axis=1)\n",
        "  return train, test, label_train,label_test\n",
        "\n",
        "heart_train, heart_test, train_labels, test_labels= train_test_splitting(heart_data,0.2)"
      ],
      "metadata": {
        "id": "5uNggkfqMYqN"
      },
      "execution_count": null,
      "outputs": []
    },
    {
      "cell_type": "markdown",
      "source": [
        "Looking at the data"
      ],
      "metadata": {
        "id": "DvYoaq2xOuZD"
      }
    },
    {
      "cell_type": "code",
      "source": [
        "print(len(heart_train))"
      ],
      "metadata": {
        "colab": {
          "base_uri": "https://localhost:8080/"
        },
        "id": "ufqzZtzAPmtd",
        "outputId": "76e4adf0-3ae7-453f-c2f2-c4ee71d30df4"
      },
      "execution_count": null,
      "outputs": [
        {
          "output_type": "stream",
          "name": "stdout",
          "text": [
            "242\n"
          ]
        }
      ]
    },
    {
      "cell_type": "code",
      "source": [
        "heart_train.columns"
      ],
      "metadata": {
        "colab": {
          "base_uri": "https://localhost:8080/"
        },
        "id": "J2PQlIGgOvzS",
        "outputId": "5b750629-10a8-4987-ab0e-cc0a7d0cefb0"
      },
      "execution_count": null,
      "outputs": [
        {
          "output_type": "execute_result",
          "data": {
            "text/plain": [
              "Index(['age', 'sex', 'cp', 'trestbps', 'chol', 'fbs', 'restecg', 'thalach',\n",
              "       'exang', 'oldpeak', 'slope', 'ca', 'thal'],\n",
              "      dtype='object')"
            ]
          },
          "metadata": {},
          "execution_count": 6
        }
      ]
    },
    {
      "cell_type": "code",
      "source": [
        "heart_train.head()"
      ],
      "metadata": {
        "colab": {
          "base_uri": "https://localhost:8080/",
          "height": 206
        },
        "id": "DPwf2xMVO3vd",
        "outputId": "b53093d1-4f3f-4146-e649-94eef460e9d5"
      },
      "execution_count": null,
      "outputs": [
        {
          "output_type": "execute_result",
          "data": {
            "text/plain": [
              "     age  sex  cp  trestbps  chol  fbs  restecg  thalach  exang  oldpeak  \\\n",
              "238   77    1   0       125   304    0        0      162      1      0.0   \n",
              "224   54    1   0       110   239    0        1      126      1      2.8   \n",
              "31    65    1   0       120   177    0        1      140      0      0.4   \n",
              "139   64    1   0       128   263    0        1      105      1      0.2   \n",
              "47    47    1   2       138   257    0        0      156      0      0.0   \n",
              "\n",
              "     slope  ca  thal  \n",
              "238      2   3     2  \n",
              "224      1   1     3  \n",
              "31       2   0     3  \n",
              "139      1   1     3  \n",
              "47       2   0     2  "
            ],
            "text/html": [
              "\n",
              "  <div id=\"df-03810f3b-bf4e-4d74-af72-21a615f40b8f\">\n",
              "    <div class=\"colab-df-container\">\n",
              "      <div>\n",
              "<style scoped>\n",
              "    .dataframe tbody tr th:only-of-type {\n",
              "        vertical-align: middle;\n",
              "    }\n",
              "\n",
              "    .dataframe tbody tr th {\n",
              "        vertical-align: top;\n",
              "    }\n",
              "\n",
              "    .dataframe thead th {\n",
              "        text-align: right;\n",
              "    }\n",
              "</style>\n",
              "<table border=\"1\" class=\"dataframe\">\n",
              "  <thead>\n",
              "    <tr style=\"text-align: right;\">\n",
              "      <th></th>\n",
              "      <th>age</th>\n",
              "      <th>sex</th>\n",
              "      <th>cp</th>\n",
              "      <th>trestbps</th>\n",
              "      <th>chol</th>\n",
              "      <th>fbs</th>\n",
              "      <th>restecg</th>\n",
              "      <th>thalach</th>\n",
              "      <th>exang</th>\n",
              "      <th>oldpeak</th>\n",
              "      <th>slope</th>\n",
              "      <th>ca</th>\n",
              "      <th>thal</th>\n",
              "    </tr>\n",
              "  </thead>\n",
              "  <tbody>\n",
              "    <tr>\n",
              "      <th>238</th>\n",
              "      <td>77</td>\n",
              "      <td>1</td>\n",
              "      <td>0</td>\n",
              "      <td>125</td>\n",
              "      <td>304</td>\n",
              "      <td>0</td>\n",
              "      <td>0</td>\n",
              "      <td>162</td>\n",
              "      <td>1</td>\n",
              "      <td>0.0</td>\n",
              "      <td>2</td>\n",
              "      <td>3</td>\n",
              "      <td>2</td>\n",
              "    </tr>\n",
              "    <tr>\n",
              "      <th>224</th>\n",
              "      <td>54</td>\n",
              "      <td>1</td>\n",
              "      <td>0</td>\n",
              "      <td>110</td>\n",
              "      <td>239</td>\n",
              "      <td>0</td>\n",
              "      <td>1</td>\n",
              "      <td>126</td>\n",
              "      <td>1</td>\n",
              "      <td>2.8</td>\n",
              "      <td>1</td>\n",
              "      <td>1</td>\n",
              "      <td>3</td>\n",
              "    </tr>\n",
              "    <tr>\n",
              "      <th>31</th>\n",
              "      <td>65</td>\n",
              "      <td>1</td>\n",
              "      <td>0</td>\n",
              "      <td>120</td>\n",
              "      <td>177</td>\n",
              "      <td>0</td>\n",
              "      <td>1</td>\n",
              "      <td>140</td>\n",
              "      <td>0</td>\n",
              "      <td>0.4</td>\n",
              "      <td>2</td>\n",
              "      <td>0</td>\n",
              "      <td>3</td>\n",
              "    </tr>\n",
              "    <tr>\n",
              "      <th>139</th>\n",
              "      <td>64</td>\n",
              "      <td>1</td>\n",
              "      <td>0</td>\n",
              "      <td>128</td>\n",
              "      <td>263</td>\n",
              "      <td>0</td>\n",
              "      <td>1</td>\n",
              "      <td>105</td>\n",
              "      <td>1</td>\n",
              "      <td>0.2</td>\n",
              "      <td>1</td>\n",
              "      <td>1</td>\n",
              "      <td>3</td>\n",
              "    </tr>\n",
              "    <tr>\n",
              "      <th>47</th>\n",
              "      <td>47</td>\n",
              "      <td>1</td>\n",
              "      <td>2</td>\n",
              "      <td>138</td>\n",
              "      <td>257</td>\n",
              "      <td>0</td>\n",
              "      <td>0</td>\n",
              "      <td>156</td>\n",
              "      <td>0</td>\n",
              "      <td>0.0</td>\n",
              "      <td>2</td>\n",
              "      <td>0</td>\n",
              "      <td>2</td>\n",
              "    </tr>\n",
              "  </tbody>\n",
              "</table>\n",
              "</div>\n",
              "      <button class=\"colab-df-convert\" onclick=\"convertToInteractive('df-03810f3b-bf4e-4d74-af72-21a615f40b8f')\"\n",
              "              title=\"Convert this dataframe to an interactive table.\"\n",
              "              style=\"display:none;\">\n",
              "        \n",
              "  <svg xmlns=\"http://www.w3.org/2000/svg\" height=\"24px\"viewBox=\"0 0 24 24\"\n",
              "       width=\"24px\">\n",
              "    <path d=\"M0 0h24v24H0V0z\" fill=\"none\"/>\n",
              "    <path d=\"M18.56 5.44l.94 2.06.94-2.06 2.06-.94-2.06-.94-.94-2.06-.94 2.06-2.06.94zm-11 1L8.5 8.5l.94-2.06 2.06-.94-2.06-.94L8.5 2.5l-.94 2.06-2.06.94zm10 10l.94 2.06.94-2.06 2.06-.94-2.06-.94-.94-2.06-.94 2.06-2.06.94z\"/><path d=\"M17.41 7.96l-1.37-1.37c-.4-.4-.92-.59-1.43-.59-.52 0-1.04.2-1.43.59L10.3 9.45l-7.72 7.72c-.78.78-.78 2.05 0 2.83L4 21.41c.39.39.9.59 1.41.59.51 0 1.02-.2 1.41-.59l7.78-7.78 2.81-2.81c.8-.78.8-2.07 0-2.86zM5.41 20L4 18.59l7.72-7.72 1.47 1.35L5.41 20z\"/>\n",
              "  </svg>\n",
              "      </button>\n",
              "      \n",
              "  <style>\n",
              "    .colab-df-container {\n",
              "      display:flex;\n",
              "      flex-wrap:wrap;\n",
              "      gap: 12px;\n",
              "    }\n",
              "\n",
              "    .colab-df-convert {\n",
              "      background-color: #E8F0FE;\n",
              "      border: none;\n",
              "      border-radius: 50%;\n",
              "      cursor: pointer;\n",
              "      display: none;\n",
              "      fill: #1967D2;\n",
              "      height: 32px;\n",
              "      padding: 0 0 0 0;\n",
              "      width: 32px;\n",
              "    }\n",
              "\n",
              "    .colab-df-convert:hover {\n",
              "      background-color: #E2EBFA;\n",
              "      box-shadow: 0px 1px 2px rgba(60, 64, 67, 0.3), 0px 1px 3px 1px rgba(60, 64, 67, 0.15);\n",
              "      fill: #174EA6;\n",
              "    }\n",
              "\n",
              "    [theme=dark] .colab-df-convert {\n",
              "      background-color: #3B4455;\n",
              "      fill: #D2E3FC;\n",
              "    }\n",
              "\n",
              "    [theme=dark] .colab-df-convert:hover {\n",
              "      background-color: #434B5C;\n",
              "      box-shadow: 0px 1px 3px 1px rgba(0, 0, 0, 0.15);\n",
              "      filter: drop-shadow(0px 1px 2px rgba(0, 0, 0, 0.3));\n",
              "      fill: #FFFFFF;\n",
              "    }\n",
              "  </style>\n",
              "\n",
              "      <script>\n",
              "        const buttonEl =\n",
              "          document.querySelector('#df-03810f3b-bf4e-4d74-af72-21a615f40b8f button.colab-df-convert');\n",
              "        buttonEl.style.display =\n",
              "          google.colab.kernel.accessAllowed ? 'block' : 'none';\n",
              "\n",
              "        async function convertToInteractive(key) {\n",
              "          const element = document.querySelector('#df-03810f3b-bf4e-4d74-af72-21a615f40b8f');\n",
              "          const dataTable =\n",
              "            await google.colab.kernel.invokeFunction('convertToInteractive',\n",
              "                                                     [key], {});\n",
              "          if (!dataTable) return;\n",
              "\n",
              "          const docLinkHtml = 'Like what you see? Visit the ' +\n",
              "            '<a target=\"_blank\" href=https://colab.research.google.com/notebooks/data_table.ipynb>data table notebook</a>'\n",
              "            + ' to learn more about interactive tables.';\n",
              "          element.innerHTML = '';\n",
              "          dataTable['output_type'] = 'display_data';\n",
              "          await google.colab.output.renderOutput(dataTable, element);\n",
              "          const docLink = document.createElement('div');\n",
              "          docLink.innerHTML = docLinkHtml;\n",
              "          element.appendChild(docLink);\n",
              "        }\n",
              "      </script>\n",
              "    </div>\n",
              "  </div>\n",
              "  "
            ]
          },
          "metadata": {},
          "execution_count": 7
        }
      ]
    },
    {
      "cell_type": "markdown",
      "source": [
        "Visualizing the corelation coefficient matrix to get insights on features"
      ],
      "metadata": {
        "id": "kHOOznpnPN6z"
      }
    },
    {
      "cell_type": "code",
      "source": [
        "Corelation_matrix=np.corrcoef(heart_data)\n",
        "print(Corelation_matrix)"
      ],
      "metadata": {
        "colab": {
          "base_uri": "https://localhost:8080/"
        },
        "id": "t-awB2JgPSaR",
        "outputId": "25b8a256-ee52-441e-a297-2b0d36f0e148"
      },
      "execution_count": null,
      "outputs": [
        {
          "output_type": "stream",
          "name": "stdout",
          "text": [
            "[[1.         0.98747884 0.98844387 ... 0.99496075 0.97174986 0.99484688]\n",
            " [0.98747884 1.         0.99547137 ... 0.97572765 0.94514869 0.99670729]\n",
            " [0.98844387 0.99547137 1.         ... 0.9859562  0.96833014 0.99588809]\n",
            " ...\n",
            " [0.99496075 0.97572765 0.9859562  ... 1.         0.98994094 0.98772805]\n",
            " [0.97174986 0.94514869 0.96833014 ... 0.98994094 1.         0.96101971]\n",
            " [0.99484688 0.99670729 0.99588809 ... 0.98772805 0.96101971 1.        ]]\n"
          ]
        }
      ]
    },
    {
      "cell_type": "markdown",
      "source": [
        " Adding a new feature - ratio of maximum heart beat achieved to cholestrol"
      ],
      "metadata": {
        "id": "GHm_paloP9FW"
      }
    },
    {
      "cell_type": "code",
      "source": [
        "heart_train['max_heart_beat_cholestrol_ratio']=heart_train['thalach']/heart_train['chol']\n",
        "heart_test['max_heart_beat_cholestrol_ratio']=heart_test['thalach']/heart_test['chol']"
      ],
      "metadata": {
        "id": "qKrCKP7uKULo"
      },
      "execution_count": null,
      "outputs": []
    },
    {
      "cell_type": "markdown",
      "source": [
        "Visualizing the no.of disease people"
      ],
      "metadata": {
        "id": "8Qts1f_LQLkX"
      }
    },
    {
      "cell_type": "code",
      "source": [
        "print(train_labels)"
      ],
      "metadata": {
        "colab": {
          "base_uri": "https://localhost:8080/"
        },
        "id": "vNni-Vt2QZJG",
        "outputId": "760167ba-0cd5-4ae3-f5cb-2e93b95fc985"
      },
      "execution_count": null,
      "outputs": [
        {
          "output_type": "stream",
          "name": "stdout",
          "text": [
            "238    0\n",
            "224    0\n",
            "31     1\n",
            "139    1\n",
            "47     1\n",
            "      ..\n",
            "259    0\n",
            "130    1\n",
            "241    0\n",
            "253    0\n",
            "155    1\n",
            "Name: target, Length: 242, dtype: int64\n"
          ]
        }
      ]
    },
    {
      "cell_type": "markdown",
      "source": [
        "Upsampling minority(disease) people"
      ],
      "metadata": {
        "id": "kRAHPAefQG3U"
      }
    },
    {
      "cell_type": "code",
      "source": [
        "from sklearn.utils import resample\n",
        "train_full=pd.concat([heart_train,train_labels],axis=1)\n",
        "no_disease=train_full[train_full.target==0]\n",
        "disease=train_full[train_full.target==1]\n",
        "h_upsample=resample(disease,replace=True,n_samples=len(no_disease),random_state=12)\n",
        "h_upsample_merged=pd.concat([no_disease,h_upsample])\n",
        "train_labels=h_upsample_merged['target']\n",
        "train_data=h_upsample_merged.drop('target',axis=1)"
      ],
      "metadata": {
        "id": "klaK9mwFXrcH"
      },
      "execution_count": null,
      "outputs": []
    },
    {
      "cell_type": "markdown",
      "source": [
        "Feature Scaling of both training and testing set"
      ],
      "metadata": {
        "id": "TvYxpmx5SMJS"
      }
    },
    {
      "cell_type": "code",
      "source": [
        "from sklearn.preprocessing import StandardScaler\n",
        "standard_scaler=StandardScaler()\n",
        "temp=train_data\n",
        "train_data=pd.DataFrame(standard_scaler.fit_transform(train_data),columns=temp.columns)\n",
        "test_data=pd.DataFrame(standard_scaler.fit_transform(heart_test),columns=temp.columns)"
      ],
      "metadata": {
        "id": "APwBrp1VonTY"
      },
      "execution_count": null,
      "outputs": []
    },
    {
      "cell_type": "markdown",
      "source": [
        "Function to calculate error rate"
      ],
      "metadata": {
        "id": "sGQNmsqUS8yA"
      }
    },
    {
      "cell_type": "code",
      "source": [
        "def error_rate_calc(predicted, actual):\n",
        "  count=0\n",
        "  for i in range(len(predicted)):\n",
        "    if(np.array(predicted)[i]!=np.array(actual)[i]):\n",
        "      count+=1\n",
        "  return count*100/len(predicted)"
      ],
      "metadata": {
        "id": "eWLJzSXBS-2Q"
      },
      "execution_count": null,
      "outputs": []
    },
    {
      "cell_type": "markdown",
      "source": [
        "Function to find the confusion matrix and visualize it"
      ],
      "metadata": {
        "id": "j-QpJkdIYGXi"
      }
    },
    {
      "cell_type": "code",
      "source": [
        "def confusion_matrix(pred,actual):\n",
        "  from sklearn.metrics import confusion_matrix\n",
        "  cf_mat=confusion_matrix(pred,actual)\n",
        "  print(cf_mat)\n",
        "  sns.heatmap(cf_mat, annot=True)\n",
        "  plt.show()"
      ],
      "metadata": {
        "id": "k0_T-PxCYLeA"
      },
      "execution_count": null,
      "outputs": []
    },
    {
      "cell_type": "markdown",
      "source": [
        "Function to calculate Precision,Recall and F1 score"
      ],
      "metadata": {
        "id": "wDpNesG9Y87L"
      }
    },
    {
      "cell_type": "code",
      "source": [
        "def precision_recall_calc(pred, actual):\n",
        "  from sklearn.metrics import precision_score, recall_score\n",
        "  prec_score=precision_score(pred,actual)\n",
        "  recall_score=recall_score(pred,actual)\n",
        "  from sklearn.metrics import f1_score\n",
        "  f1score=f1_score(pred,actual)\n",
        "  print(\"Precision is {0}\".format(prec_score))\n",
        "  print(\"Recall is {0}\".format(recall_score))\n",
        "  print(\"F1 score is {0}\".format(f1score))"
      ],
      "metadata": {
        "id": "UC283QUVZS7-"
      },
      "execution_count": null,
      "outputs": []
    },
    {
      "cell_type": "markdown",
      "source": [
        "## Training the data on Linear SVM classifier"
      ],
      "metadata": {
        "id": "mWebT_7sSjah"
      }
    },
    {
      "cell_type": "code",
      "source": [
        "from sklearn.linear_model import SGDClassifier\n",
        "sgd_clf=SGDClassifier(random_state=12)\n",
        "sgd_clf.fit(train_data,train_labels)\n",
        "pred_SVM=sgd_clf.predict(train_data)"
      ],
      "metadata": {
        "id": "krHY-io5zGqC"
      },
      "execution_count": null,
      "outputs": []
    },
    {
      "cell_type": "markdown",
      "source": [
        "Checking the error rate on Linear SVM classifier"
      ],
      "metadata": {
        "id": "hw2UMuKsTf42"
      }
    },
    {
      "cell_type": "code",
      "source": [
        "error_rate_SVM_train=error_rate_calc(pred_SVM,train_labels)\n",
        "print(\"Error rate for Linear SVM classifier on training set is {0}\".format(error_rate_SVM_train))\n",
        "pred_test_Linear_SVM=sgd_clf.predict(test_data)\n",
        "error_rate_SVM_test=error_rate_calc(pred_test_Linear_SVM,test_labels)\n",
        "print(\"Error rate for Linear SVM classifier on test set is {0}\".format(error_rate_SVM_test))"
      ],
      "metadata": {
        "colab": {
          "base_uri": "https://localhost:8080/"
        },
        "id": "E14bYYZ3Tipw",
        "outputId": "f9c3f02f-af96-49cd-bb76-631338f633bb"
      },
      "execution_count": null,
      "outputs": [
        {
          "output_type": "stream",
          "name": "stdout",
          "text": [
            "Error rate for Linear SVM classifier on training set is 12.616822429906541\n",
            "Error rate for Linear SVM classifier on test set is 21.311475409836067\n"
          ]
        }
      ]
    },
    {
      "cell_type": "markdown",
      "source": [
        "Confusion matrix of Linear SVM classifier"
      ],
      "metadata": {
        "id": "a0gWaCLYYeil"
      }
    },
    {
      "cell_type": "code",
      "source": [
        "confusion_matrix(pred_test_Linear_SVM,test_labels)"
      ],
      "metadata": {
        "colab": {
          "base_uri": "https://localhost:8080/",
          "height": 304
        },
        "id": "DETkzHMmYdKF",
        "outputId": "5883e732-8baf-496e-c34f-f448a597977c"
      },
      "execution_count": null,
      "outputs": [
        {
          "output_type": "stream",
          "name": "stdout",
          "text": [
            "[[24  6]\n",
            " [ 7 24]]\n"
          ]
        },
        {
          "output_type": "display_data",
          "data": {
            "text/plain": [
              "<Figure size 432x288 with 2 Axes>"
            ],
            "image/png": "[encoded data removed]"
          },
          "metadata": {
            "needs_background": "light"
          }
        }
      ]
    },
    {
      "cell_type": "code",
      "source": [
        "precision_recall_calc(pred_test_Linear_SVM,test_labels)"
      ],
      "metadata": {
        "colab": {
          "base_uri": "https://localhost:8080/"
        },
        "id": "dBzlp1v2Z1-T",
        "outputId": "763b2b37-b754-4072-8421-8d8749da6e42"
      },
      "execution_count": null,
      "outputs": [
        {
          "output_type": "stream",
          "name": "stdout",
          "text": [
            "Precision is 0.8\n",
            "Recall is 0.7741935483870968\n",
            "F1 score is 0.7868852459016393\n"
          ]
        }
      ]
    },
    {
      "cell_type": "markdown",
      "source": [
        "## Training the data on RBF Kernel SVM classifier"
      ],
      "metadata": {
        "id": "-jL6ga41X7me"
      }
    },
    {
      "cell_type": "code",
      "source": [
        "from sklearn.svm import SVC\n",
        "RBF_SVM=SVC(kernel='rbf',gamma='auto')\n",
        "RBF_SVM.fit(train_data,train_labels)\n",
        "pred_RBF=RBF_SVM.predict(train_data)"
      ],
      "metadata": {
        "id": "8OYktluGaGWo"
      },
      "execution_count": null,
      "outputs": []
    },
    {
      "cell_type": "markdown",
      "source": [
        "Checking the error rate on RBF SVM classifier"
      ],
      "metadata": {
        "id": "Gxiawr7NeQH_"
      }
    },
    {
      "cell_type": "code",
      "source": [
        "error_rate_RBF_train=error_rate_calc(pred_RBF,train_labels)\n",
        "print(\"Error rate for RBF SVM classifier on training set is {0}\".format(error_rate_RBF_train))\n",
        "pred_test_RBF_SVM=RBF_SVM.predict(test_data)\n",
        "error_rate_RBF_test=error_rate_calc(pred_test_RBF_SVM,test_labels)\n",
        "print(\"Error rate for RBF SVM classifier on test set is {0}\".format(error_rate_RBF_test))"
      ],
      "metadata": {
        "colab": {
          "base_uri": "https://localhost:8080/"
        },
        "id": "ZxE7zjj5eQdR",
        "outputId": "907eaef7-3bc9-4e29-ae10-3864e4c2d5c7"
      },
      "execution_count": null,
      "outputs": [
        {
          "output_type": "stream",
          "name": "stdout",
          "text": [
            "Error rate for RBF SVM classifier on training set is 5.140186915887851\n",
            "Error rate for RBF SVM classifier on test set is 32.78688524590164\n"
          ]
        }
      ]
    },
    {
      "cell_type": "markdown",
      "source": [
        "Plotting the heat map and Confusion matrix"
      ],
      "metadata": {
        "id": "8r_8xIp5euXT"
      }
    },
    {
      "cell_type": "code",
      "source": [
        "confusion_matrix(pred_test_RBF_SVM,test_labels)"
      ],
      "metadata": {
        "colab": {
          "base_uri": "https://localhost:8080/",
          "height": 304
        },
        "id": "RYO4TSKGezSc",
        "outputId": "bd2e91ac-b191-48ec-87aa-91c0947821de"
      },
      "execution_count": null,
      "outputs": [
        {
          "output_type": "stream",
          "name": "stdout",
          "text": [
            "[[22 11]\n",
            " [ 9 19]]\n"
          ]
        },
        {
          "output_type": "display_data",
          "data": {
            "text/plain": [
              "<Figure size 432x288 with 2 Axes>"
            ],
            "image/png": "[encoded data removed]"
          },
          "metadata": {
            "needs_background": "light"
          }
        }
      ]
    },
    {
      "cell_type": "markdown",
      "source": [
        "Precision Recall score for RBF SVM classifier"
      ],
      "metadata": {
        "id": "IFjXdH8tfeDu"
      }
    },
    {
      "cell_type": "code",
      "source": [
        "precision_recall_calc(pred_test_RBF_SVM,test_labels)"
      ],
      "metadata": {
        "colab": {
          "base_uri": "https://localhost:8080/"
        },
        "id": "orhiSCHWfkcS",
        "outputId": "5f51188b-58d9-4a33-9b84-6671feaba378"
      },
      "execution_count": null,
      "outputs": [
        {
          "output_type": "stream",
          "name": "stdout",
          "text": [
            "Precision is 0.6333333333333333\n",
            "Recall is 0.6785714285714286\n",
            "F1 score is 0.6551724137931035\n"
          ]
        }
      ]
    },
    {
      "cell_type": "markdown",
      "source": [
        "### Data is overfitting when RBF Kernel is used"
      ],
      "metadata": {
        "id": "j98mpWAygDFy"
      }
    },
    {
      "cell_type": "markdown",
      "source": [
        "## Training the data on logistic regression classifier"
      ],
      "metadata": {
        "id": "EFiDwugvgLw-"
      }
    },
    {
      "cell_type": "code",
      "source": [
        "from sklearn.linear_model import LogisticRegression\n",
        "logistic_clf=LogisticRegression()\n",
        "logistic_clf.fit(train_data,train_labels)\n",
        "pred_Logistic=logistic_clf.predict(train_data)"
      ],
      "metadata": {
        "id": "PdSF4E4vId9j"
      },
      "execution_count": null,
      "outputs": []
    },
    {
      "cell_type": "markdown",
      "source": [
        "Checking the error rate on logistic regression classifier"
      ],
      "metadata": {
        "id": "hT-45sSIgstm"
      }
    },
    {
      "cell_type": "code",
      "source": [
        "error_rate_logistic_train=error_rate_calc(pred_Logistic,train_labels)\n",
        "print(\"Error rate for logistic regression classifier on training set is {0}\"\n",
        ".format(error_rate_logistic_train))\n",
        "pred_test_logistic=logistic_clf.predict(test_data)\n",
        "error_rate_logistic=error_rate_calc(pred_test_logistic,test_labels)\n",
        "print(\"Error rate for logistic regession classifier on test set is {0}\"\n",
        ".format(error_rate_logistic))"
      ],
      "metadata": {
        "colab": {
          "base_uri": "https://localhost:8080/"
        },
        "id": "0_X73-WngnyM",
        "outputId": "2785ea8a-98d1-4c8c-d955-c74f84222ca5"
      },
      "execution_count": null,
      "outputs": [
        {
          "output_type": "stream",
          "name": "stdout",
          "text": [
            "Error rate for logistic regression classifier on training set is 10.280373831775702\n",
            "Error rate for logistic regession classifier on test set is 22.950819672131146\n"
          ]
        }
      ]
    },
    {
      "cell_type": "markdown",
      "source": [
        "Confusion matrix- heat map plotting "
      ],
      "metadata": {
        "id": "xF2YQpdlhON4"
      }
    },
    {
      "cell_type": "code",
      "source": [
        "confusion_matrix(pred_test_logistic,test_labels)"
      ],
      "metadata": {
        "colab": {
          "base_uri": "https://localhost:8080/",
          "height": 304
        },
        "id": "0vSBNN3qKH_2",
        "outputId": "9e5b353f-210a-45e5-a38a-c89f9db3f1d3"
      },
      "execution_count": null,
      "outputs": [
        {
          "output_type": "stream",
          "name": "stdout",
          "text": [
            "[[25  8]\n",
            " [ 6 22]]\n"
          ]
        },
        {
          "output_type": "display_data",
          "data": {
            "text/plain": [
              "<Figure size 432x288 with 2 Axes>"
            ],
            "image/png": "[encoded data removed]"
          },
          "metadata": {
            "needs_background": "light"
          }
        }
      ]
    },
    {
      "cell_type": "markdown",
      "source": [
        "Precision Recall score for logistic regession classifier"
      ],
      "metadata": {
        "id": "_Jn6HVeIhZY_"
      }
    },
    {
      "cell_type": "code",
      "source": [
        "precision_recall_calc(pred_test_logistic,test_labels)"
      ],
      "metadata": {
        "colab": {
          "base_uri": "https://localhost:8080/"
        },
        "id": "bci_kv36hYlr",
        "outputId": "3c236d5c-8f5f-4b40-f2fe-d4e5ad5befdc"
      },
      "execution_count": null,
      "outputs": [
        {
          "output_type": "stream",
          "name": "stdout",
          "text": [
            "Precision is 0.7333333333333333\n",
            "Recall is 0.7857142857142857\n",
            "F1 score is 0.7586206896551724\n"
          ]
        }
      ]
    },
    {
      "cell_type": "markdown",
      "source": [
        "## Training the data on Random Forest Classifier"
      ],
      "metadata": {
        "id": "ZZqeSHr8jWXP"
      }
    },
    {
      "cell_type": "code",
      "source": [
        "from sklearn.ensemble import RandomForestClassifier\n",
        "forest_clf = RandomForestClassifier(random_state=42)\n",
        "forest_clf.fit(train_data, train_labels)\n",
        "pred_Random_forest=forest_clf.predict(train_data)"
      ],
      "metadata": {
        "id": "01Rm4RD_oBuy"
      },
      "execution_count": null,
      "outputs": []
    },
    {
      "cell_type": "markdown",
      "source": [
        "Checking the error rate on Random Forest classifier"
      ],
      "metadata": {
        "id": "UgRb6jg1jwR5"
      }
    },
    {
      "cell_type": "code",
      "source": [
        "error_rate_forest_train=error_rate_calc(pred_Random_forest,train_labels)\n",
        "print(\"Error rate for Random Forest classifier on training set is {0}\"\n",
        ".format(error_rate_forest_train))\n",
        "pred_test_forest=forest_clf.predict(test_data)\n",
        "error_rate_forest=error_rate_calc(pred_test_forest,test_labels)\n",
        "print(\"Error rate for Random Forest classifier on test set is {0}\"\n",
        ".format(error_rate_forest))"
      ],
      "metadata": {
        "colab": {
          "base_uri": "https://localhost:8080/"
        },
        "id": "y8e-kXmNkAC_",
        "outputId": "203ac075-977c-4b3a-82e5-0057a3d9a87c"
      },
      "execution_count": null,
      "outputs": [
        {
          "output_type": "stream",
          "name": "stdout",
          "text": [
            "Error rate for Random Forest classifier on training set is 0.0\n",
            "Error rate for Random Forest classifier on test set is 21.311475409836067\n"
          ]
        }
      ]
    },
    {
      "cell_type": "markdown",
      "source": [
        "Precision Recall score for Random Forest classifier"
      ],
      "metadata": {
        "id": "J9rBgtvnkV9n"
      }
    },
    {
      "cell_type": "code",
      "source": [
        "precision_recall_calc(pred_test_forest,test_labels)"
      ],
      "metadata": {
        "colab": {
          "base_uri": "https://localhost:8080/"
        },
        "id": "es-JbpyGkZzG",
        "outputId": "519d2cdf-7b88-40d5-a10b-efa4784052f6"
      },
      "execution_count": null,
      "outputs": [
        {
          "output_type": "stream",
          "name": "stdout",
          "text": [
            "Precision is 0.7333333333333333\n",
            "Recall is 0.8148148148148148\n",
            "F1 score is 0.7719298245614035\n"
          ]
        }
      ]
    },
    {
      "cell_type": "code",
      "source": [
        "#ROC Curves for SGD, Logistic and Random Forests\n",
        "from sklearn.metrics import roc_curve\n",
        "def plot_roc_curve(fpr, tpr, label=None):\n",
        "  plt.plot(fpr, tpr, linewidth=2, label=label)\n",
        "fpr_sgd,tpr_sgd,thresh_sgd=roc_curve(pred_test_Linear_SVM,test_labels)\n",
        "fpr_rbf, tpr_rbf,thresh_rbf=roc_curve(pred_test_RBF_SVM,test_labels)\n",
        "fpr_log,tpr_log,thresh_log=roc_curve(pred_test_logistic,test_labels)\n",
        "fpr_forest,tpr_forest,thresh_forest=roc_curve(pred_test_forest,test_labels)\n",
        "plot_roc_curve(fpr_sgd,tpr_sgd,label='Linear Kernel SVM')\n",
        "plot_roc_curve(fpr_rbf,tpr_rbf,label='RBF Kernel SVM')\n",
        "plot_roc_curve(fpr_log,tpr_log,label='Logistic Regression')\n",
        "plot_roc_curve(fpr_forest,tpr_forest,label='Random Forest')\n",
        "plt.plot([0,1],[0,1],'--',label='reference')\n",
        "plt.legend()\n",
        "plt.show()\n"
      ],
      "metadata": {
        "colab": {
          "base_uri": "https://localhost:8080/",
          "height": 265
        },
        "id": "cYVn43GXI3d8",
        "outputId": "4691f008-24d4-414a-b50f-09fc8369187f"
      },
      "execution_count": null,
      "outputs": [
        {
          "output_type": "display_data",
          "data": {
            "text/plain": [
              "<Figure size 432x288 with 1 Axes>"
            ],
            "image/png": "[encoded data removed]"
          },
          "metadata": {
            "needs_background": "light"
          }
        }
      ]
    },
    {
      "cell_type": "markdown",
      "source": [
        "THUS, AS WE CAN SEE, RANDOM FORESTS PERFORM BETTER THAN LOGISTIC, RBF KERNEL SVM and LINEAR SVM \n",
        "CLASSIFIER."
      ],
      "metadata": {
        "id": "oVaGcmhqQB8x"
      }
    }
  ]
}